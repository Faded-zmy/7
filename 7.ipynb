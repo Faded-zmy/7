mcmc/gibbs-sampling.ipynb
{
 "cells": [
  {
   "cell_type": "code",
   "execution_count": 1,
   "metadata": {},
   "outputs": [],
   "source": [
    "%matplotlib inline\n",
    "%config InlineBackend.figure_format = 'retina'\n",
    "\n",
    "from IPython.core.pylabtools import figsize\n",
    "\n",
    "from scipy.stats import uniform, gamma, poisson\n",
    "import matplotlib.pyplot as plt\n",
    "import numpy\n",
    "from numpy import log,exp\n",
    "from numpy.random import multinomial\n",
    "\n",
    "# fix the random seed for replicability.\n",
    "numpy.random.seed(123456789)"
   ]
  }
}
  
  
